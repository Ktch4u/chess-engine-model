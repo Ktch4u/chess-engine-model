{
  "nbformat": 4,
  "nbformat_minor": 0,
  "metadata": {
    "colab": {
      "name": "chess-engine.ipynb",
      "provenance": [],
      "authorship_tag": "ABX9TyOBvOlhahJCXyXvbQNH3wgU",
      "include_colab_link": true
    },
    "kernelspec": {
      "name": "python3",
      "display_name": "Python 3"
    }
  },
  "cells": [
    {
      "cell_type": "markdown",
      "metadata": {
        "id": "view-in-github",
        "colab_type": "text"
      },
      "source": [
        "<a href=\"https://colab.research.google.com/github/iAmEthanMai/chess-engine-model/blob/main/chess_engine.ipynb\" target=\"_parent\"><img src=\"https://colab.research.google.com/assets/colab-badge.svg\" alt=\"Open In Colab\"/></a>"
      ]
    },
    {
      "cell_type": "markdown",
      "metadata": {
        "id": "PnYuGG2xY1gG"
      },
      "source": [
        "#Python Chess Engine ♟️"
      ]
    },
    {
      "cell_type": "markdown",
      "metadata": {
        "id": "GmoQbfyzZI3O"
      },
      "source": [
        "**libraries**\n",
        "\n",
        "---"
      ]
    },
    {
      "cell_type": "code",
      "metadata": {
        "id": "qaTPsIvxYk9e"
      },
      "source": [
        "!pip3 install python-chess\n",
        "!pip3 install cairosvg"
      ],
      "execution_count": null,
      "outputs": []
    },
    {
      "cell_type": "code",
      "metadata": {
        "id": "QYYdVi-EYpZN"
      },
      "source": [
        "import chess\n",
        "import chess.svg\n",
        "import cairosvg\n",
        "from cairosvg import svg2png\n",
        "import matplotlib.pyplot as plt\n",
        "import matplotlib.image as mpimg\n",
        "import pandas as pd\n",
        "import numpy as np\n",
        "import tensorflow as tf\n",
        "from IPython.display import clear_output"
      ],
      "execution_count": 2,
      "outputs": []
    },
    {
      "cell_type": "markdown",
      "metadata": {
        "id": "7r47Hyx877Hy"
      },
      "source": [
        "**import the model**\n",
        "\n",
        "---"
      ]
    },
    {
      "cell_type": "code",
      "metadata": {
        "colab": {
          "base_uri": "https://localhost:8080/"
        },
        "id": "zNt_lK5n8AKd",
        "outputId": "f992bcf1-a3a0-4fbc-d01b-d2abe56b5272"
      },
      "source": [
        "!git clone https://github.com/iAmEthanMai/chess-engine-model.git"
      ],
      "execution_count": 16,
      "outputs": [
        {
          "output_type": "stream",
          "text": [
            "Cloning into 'chess-engine-model'...\n",
            "remote: Enumerating objects: 15, done.\u001b[K\n",
            "remote: Counting objects: 100% (15/15), done.\u001b[K\n",
            "remote: Compressing objects: 100% (10/10), done.\u001b[K\n",
            "remote: Total 15 (delta 4), reused 15 (delta 4), pack-reused 0\u001b[K\n",
            "Unpacking objects: 100% (15/15), done.\n"
          ],
          "name": "stdout"
        }
      ]
    },
    {
      "cell_type": "markdown",
      "metadata": {
        "id": "RqzV6xfvZTOz"
      },
      "source": [
        "**model utils**\n",
        "\n",
        "---"
      ]
    },
    {
      "cell_type": "code",
      "metadata": {
        "id": "L6QeNZ8CYwO8"
      },
      "source": [
        "path_to_model = '/content/chess-engine-model'\n",
        "\n",
        "global model\n",
        "model = tf.saved_model.load(path_to_model)"
      ],
      "execution_count": 17,
      "outputs": []
    },
    {
      "cell_type": "code",
      "metadata": {
        "id": "QeWYVYMja1S2"
      },
      "source": [
        "def predict(df_eval, imported_model):\n",
        "    \"\"\"Return array of predictions for each row of df_eval\n",
        "    \n",
        "    Keyword arguments:\n",
        "    df_eval -- pd.DataFrame\n",
        "    imported_model -- tf.saved_model \n",
        "    \"\"\"\n",
        "    col_names = df_eval.columns\n",
        "    dtypes = df_eval.dtypes\n",
        "    predictions = []\n",
        "    for row in df_eval.iterrows():\n",
        "        example = tf.train.Example()\n",
        "        for i in range(len(col_names)):\n",
        "            dtype = dtypes[i]\n",
        "            col_name = col_names[i]\n",
        "            value = row[1][col_name]\n",
        "            if dtype == \"object\":\n",
        "                value = bytes(value, \"utf-8\")\n",
        "                example.features.feature[col_name].bytes_list.value.extend([value])\n",
        "            elif dtype == \"float\":\n",
        "                example.features.feature[col_name].float_list.value.extend([value])\n",
        "            elif dtype == \"int\":\n",
        "                example.features.feature[col_name].int64_list.value.extend([value])\n",
        "        predictions.append(imported_model.signatures[\"predict\"](examples = tf.constant([example.SerializeToString()])))\n",
        "\n",
        "    return predictions"
      ],
      "execution_count": 4,
      "outputs": []
    },
    {
      "cell_type": "code",
      "metadata": {
        "id": "AHwN36uNbIuk"
      },
      "source": [
        "def get_board_features(board):\n",
        "    \"\"\"Return array of features for a board\n",
        "    \n",
        "    Keyword arguments:\n",
        "    board -- chess.Board()\n",
        "    \"\"\"\n",
        "    board_features = []\n",
        "    for square in chess.SQUARES:\n",
        "        board_features.append(str(board.piece_at(square)))\n",
        "    return board_features"
      ],
      "execution_count": 5,
      "outputs": []
    },
    {
      "cell_type": "code",
      "metadata": {
        "id": "ZGT_kBd_bLtN"
      },
      "source": [
        "def get_move_features(move):\n",
        "    \"\"\"Return 2 arrays of features for a move\n",
        "    \n",
        "    Keyword arguments:\n",
        "    move -- chess.Move\n",
        "    \"\"\"\n",
        "    from_ = np.zeros(64)\n",
        "    to_ = np.zeros(64)\n",
        "    from_[move.from_square] = 1\n",
        "    to_[move.to_square] = 1\n",
        "    return from_, to_"
      ],
      "execution_count": 6,
      "outputs": []
    },
    {
      "cell_type": "code",
      "metadata": {
        "id": "FoJUFEYYbO73"
      },
      "source": [
        "def get_possible_moves_data(current_board):\n",
        "    \"\"\"Return pd.DataFrame of all possible moves used for predictions\n",
        "    \n",
        "    Keyword arguments:\n",
        "    current_board -- chess.Board()\n",
        "    \"\"\"\n",
        "    data = []\n",
        "    moves = list(current_board.legal_moves)\n",
        "    for move in moves:\n",
        "        from_square, to_square = get_move_features(move)\n",
        "        row = np.concatenate((get_board_features(current_board), from_square, to_square))\n",
        "        data.append(row)\n",
        "    \n",
        "    board_feature_names = chess.SQUARE_NAMES\n",
        "    move_from_feature_names = ['from_' + square for square in chess.SQUARE_NAMES]\n",
        "    move_to_feature_names = ['to_' + square for square in chess.SQUARE_NAMES]\n",
        "    \n",
        "    columns = board_feature_names + move_from_feature_names + move_to_feature_names\n",
        "    \n",
        "    df = pd.DataFrame(data = data, columns = columns)\n",
        "    \n",
        "    for column in move_from_feature_names:\n",
        "      df[column] = df[column].astype(float)\n",
        "    for column in move_to_feature_names:\n",
        "      df[column] = df[column].astype(float)\n",
        "\n",
        "    return df"
      ],
      "execution_count": 7,
      "outputs": []
    },
    {
      "cell_type": "code",
      "metadata": {
        "id": "rCNo4FNHbSHH"
      },
      "source": [
        "def find_best_move(current_board, model):\n",
        "    \"\"\"Return the best chess.Move\n",
        "    \n",
        "    Keyword arguments:\n",
        "    current_board -- chess.Board()\n",
        "    model -- tf.saved_model\n",
        "    \"\"\"\n",
        "    moves = list(current_board.legal_moves)\n",
        "    df_eval = get_possible_moves_data(current_board)\n",
        "    predictions = predict(df_eval, model)\n",
        "    good_move_probas = []\n",
        "    for prediction in predictions:\n",
        "        proba = str(prediction['probabilities'].numpy()[0])\n",
        "        try:\n",
        "          proba = float(proba.replace('[','').replace(']','').split(' ')[1])\n",
        "          good_move_probas.append(proba)\n",
        "        except:\n",
        "          good_move_probas.append(0.0)\n",
        "    dict_ = dict(zip(moves, good_move_probas))\n",
        "    return max(dict_, key=dict_.get)"
      ],
      "execution_count": 8,
      "outputs": []
    },
    {
      "cell_type": "markdown",
      "metadata": {
        "id": "WznAsdSDY09-"
      },
      "source": [
        "**game utils**\n",
        "\n",
        "---"
      ]
    },
    {
      "cell_type": "code",
      "metadata": {
        "id": "uVqvpIKP4YPb"
      },
      "source": [
        "def draw_board(current_board):\n",
        "  \"\"\"Draw board\n",
        "\n",
        "   Keyword arguments:\n",
        "   current_board -- chess.Board()\n",
        "  \"\"\"\n",
        "  board_img = chess.svg.board(current_board)\n",
        "  svg2png(bytestring=board_img,write_to='/content/board.png')\n",
        "  img = mpimg.imread('/content/board.png')\n",
        "  imgplot = plt.imshow(img)\n",
        "  plt.show()\n",
        "\n",
        "def save_board_img(current_board):\n",
        "  board_img = chess.svg.board(current_board)\n",
        "  svg2png(bytestring=board_img,write_to='/content/board.png')\n",
        "  img = mpimg.imread('/content/board.png')"
      ],
      "execution_count": 9,
      "outputs": []
    },
    {
      "cell_type": "code",
      "metadata": {
        "id": "LvbeIex14nZS"
      },
      "source": [
        "def can_checkmate(move, current_board):\n",
        "  \"\"\"Return True if a move can checkmate\n",
        "    \n",
        "  Keyword arguments:\n",
        "  move -- chess.Move\n",
        "  current_board -- chess.Board()\n",
        "  \"\"\"\n",
        "  fen = current_board.fen()\n",
        "  future_board = chess.Board(fen)\n",
        "  future_board.push(move)\n",
        "  return future_board.is_checkmate()"
      ],
      "execution_count": 10,
      "outputs": []
    },
    {
      "cell_type": "code",
      "metadata": {
        "id": "OWZz2M_C4uuq"
      },
      "source": [
        "def ai_play_turn(current_board):\n",
        "  \"\"\"Handdle the A.I's turn\n",
        "\n",
        "  Keyword arguments:\n",
        "  current_board -- chess.Board()\n",
        "  \"\"\"\n",
        "  for move in current_board.legal_moves:\n",
        "    if(can_checkmate(move, current_board)):\n",
        "      current_board.push(move)\n",
        "      return\n",
        "    \n",
        "  best_move = find_best_move(current_board, model)\n",
        "  current_board.push(best_move)\n",
        "  return"
      ],
      "execution_count": 11,
      "outputs": []
    },
    {
      "cell_type": "code",
      "metadata": {
        "id": "e4zzWKMR5AES"
      },
      "source": [
        "def human_play_turn(current_board):\n",
        "  \"\"\"Handle the human's turn\n",
        "\n",
        "  Keyword arguments:\n",
        "  current_board = chess.Board()\n",
        "  \"\"\"\n",
        "  clear_output()\n",
        "  #draw_board(current_board)\n",
        "  save_board_img(current_board)\n",
        "  print(current_board)\n",
        "  move_uci = input('Enter your move: ')\n",
        "\n",
        "  try: \n",
        "      move = chess.Move.from_uci(move_uci)\n",
        "  except:\n",
        "      return human_play_turn(current_board) \n",
        "  if(move not in current_board.legal_moves):\n",
        "      return human_play_turn(current_board)\n",
        "  current_board.push(move)\n",
        "  return"
      ],
      "execution_count": 12,
      "outputs": []
    },
    {
      "cell_type": "code",
      "metadata": {
        "id": "rzUjsJB-5imp"
      },
      "source": [
        "def play_game(turn, current_board):\n",
        "  \"\"\"Play through the whole game\n",
        "    \n",
        "  Keyword arguments:\n",
        "  turn -- True for A.I plays first\n",
        "  current_board -- chess.Board()\n",
        "  \"\"\"\n",
        "  if(not turn):\n",
        "     if(not current_board.is_checkmate()):\n",
        "         human_play_turn(current_board)\n",
        "         return play_game(not turn, current_board)\n",
        "     else:\n",
        "         print('A.I wins')\n",
        "         return\n",
        "  else:\n",
        "     if(not current_board.is_checkmate()):\n",
        "         ai_play_turn(current_board)\n",
        "         return play_game(not turn, current_board)\n",
        "     else:\n",
        "         print('Human wins')\n",
        "         return"
      ],
      "execution_count": 13,
      "outputs": []
    },
    {
      "cell_type": "code",
      "metadata": {
        "id": "9lC9-DHM6KLL"
      },
      "source": [
        "def play():\n",
        "  \"\"\"Init and start the game\n",
        "  \"\"\"\n",
        "  board = chess.Board()\n",
        "  human_first = input('Care to start? [y/n]: ')\n",
        "  clear_output()\n",
        "  if(human_first == 'y'):\n",
        "     return play_game(False, board)\n",
        "  else:\n",
        "     return play_game(True, board)"
      ],
      "execution_count": 14,
      "outputs": []
    },
    {
      "cell_type": "markdown",
      "metadata": {
        "id": "qEliJ7Qb6Xzx"
      },
      "source": [
        "**play**\n",
        "\n",
        "---"
      ]
    },
    {
      "cell_type": "code",
      "metadata": {
        "id": "-5HEdUFOH2Rs"
      },
      "source": [
        "play()"
      ],
      "execution_count": null,
      "outputs": []
    },
    {
      "cell_type": "code",
      "metadata": {
        "colab": {
          "base_uri": "https://localhost:8080/",
          "height": 417
        },
        "id": "iGDJmJzbH_rZ",
        "outputId": "fd19f85c-5f5b-44e5-80e9-c7a051aead43"
      },
      "source": [
        "import PIL.Image\n",
        "PIL.Image.open('/content/board.png')"
      ],
      "execution_count": 20,
      "outputs": [
        {
          "output_type": "execute_result",
          "data": {
            "image/png": "[encoded data removed]",
            "text/plain": [
              "<PIL.PngImagePlugin.PngImageFile image mode=RGBA size=400x400 at 0x7FF59C7BCB38>"
            ]
          },
          "metadata": {
            "tags": []
          },
          "execution_count": 20
        }
      ]
    }
  ]
}